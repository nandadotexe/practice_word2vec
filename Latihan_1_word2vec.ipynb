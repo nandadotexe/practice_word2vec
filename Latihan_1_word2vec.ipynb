{
 "cells": [
  {
   "cell_type": "markdown",
   "metadata": {},
   "source": [
    "Sumber : https://www.journaldev.com/19279/python-gensim-word2vec"
   ]
  },
  {
   "cell_type": "markdown",
   "metadata": {},
   "source": [
    "3. Getting Started with Gensim\n",
    "Before getting started with Gensim you need to check if your machine is ready to work with it. Gensim assumes following to be working seamlessly on your machine:\n",
    "\n",
    "Python 2.6 or later\n",
    "Numpy 1.3 or later\n",
    "Scipy 0.7 or later"
   ]
  },
  {
   "cell_type": "code",
   "execution_count": 2,
   "metadata": {
    "scrolled": true
   },
   "outputs": [
    {
     "name": "stdout",
     "output_type": "stream",
     "text": [
      "Requirement already up-to-date: gensim in /Users/miftakhurrokhmat/environment/bda36/lib/python3.6/site-packages (3.8.1)\n",
      "Requirement already satisfied, skipping upgrade: six>=1.5.0 in /Users/miftakhurrokhmat/environment/bda36/lib/python3.6/site-packages (from gensim) (1.13.0)\n",
      "Requirement already satisfied, skipping upgrade: numpy>=1.11.3 in /Users/miftakhurrokhmat/environment/bda36/lib/python3.6/site-packages (from gensim) (1.18.2)\n",
      "Requirement already satisfied, skipping upgrade: scipy>=0.18.1 in /Users/miftakhurrokhmat/environment/bda36/lib/python3.6/site-packages (from gensim) (1.4.1)\n",
      "Requirement already satisfied, skipping upgrade: smart-open>=1.8.1 in /Users/miftakhurrokhmat/environment/bda36/lib/python3.6/site-packages (from gensim) (1.10.0)\n",
      "Requirement already satisfied, skipping upgrade: requests in /Users/miftakhurrokhmat/environment/bda36/lib/python3.6/site-packages (from smart-open>=1.8.1->gensim) (2.22.0)\n",
      "Requirement already satisfied, skipping upgrade: google-cloud-storage in /Users/miftakhurrokhmat/environment/bda36/lib/python3.6/site-packages (from smart-open>=1.8.1->gensim) (1.26.0)\n",
      "Requirement already satisfied, skipping upgrade: boto3 in /Users/miftakhurrokhmat/environment/bda36/lib/python3.6/site-packages (from smart-open>=1.8.1->gensim) (1.12.30)\n",
      "Requirement already satisfied, skipping upgrade: chardet<3.1.0,>=3.0.2 in /Users/miftakhurrokhmat/environment/bda36/lib/python3.6/site-packages (from requests->smart-open>=1.8.1->gensim) (3.0.4)\n",
      "Requirement already satisfied, skipping upgrade: certifi>=2017.4.17 in /Users/miftakhurrokhmat/environment/bda36/lib/python3.6/site-packages (from requests->smart-open>=1.8.1->gensim) (2019.11.28)\n",
      "Requirement already satisfied, skipping upgrade: urllib3!=1.25.0,!=1.25.1,<1.26,>=1.21.1 in /Users/miftakhurrokhmat/environment/bda36/lib/python3.6/site-packages (from requests->smart-open>=1.8.1->gensim) (1.25.7)\n",
      "Requirement already satisfied, skipping upgrade: idna<2.9,>=2.5 in /Users/miftakhurrokhmat/environment/bda36/lib/python3.6/site-packages (from requests->smart-open>=1.8.1->gensim) (2.8)\n",
      "Requirement already satisfied, skipping upgrade: google-auth<2.0dev,>=1.11.0 in /Users/miftakhurrokhmat/environment/bda36/lib/python3.6/site-packages (from google-cloud-storage->smart-open>=1.8.1->gensim) (1.12.0)\n",
      "Requirement already satisfied, skipping upgrade: google-resumable-media<0.6dev,>=0.5.0 in /Users/miftakhurrokhmat/environment/bda36/lib/python3.6/site-packages (from google-cloud-storage->smart-open>=1.8.1->gensim) (0.5.0)\n",
      "Requirement already satisfied, skipping upgrade: google-cloud-core<2.0dev,>=1.2.0 in /Users/miftakhurrokhmat/environment/bda36/lib/python3.6/site-packages (from google-cloud-storage->smart-open>=1.8.1->gensim) (1.3.0)\n",
      "Requirement already satisfied, skipping upgrade: s3transfer<0.4.0,>=0.3.0 in /Users/miftakhurrokhmat/environment/bda36/lib/python3.6/site-packages (from boto3->smart-open>=1.8.1->gensim) (0.3.3)\n",
      "Requirement already satisfied, skipping upgrade: botocore<1.16.0,>=1.15.30 in /Users/miftakhurrokhmat/environment/bda36/lib/python3.6/site-packages (from boto3->smart-open>=1.8.1->gensim) (1.15.30)\n",
      "Requirement already satisfied, skipping upgrade: jmespath<1.0.0,>=0.7.1 in /Users/miftakhurrokhmat/environment/bda36/lib/python3.6/site-packages (from boto3->smart-open>=1.8.1->gensim) (0.9.5)\n",
      "Requirement already satisfied, skipping upgrade: cachetools<5.0,>=2.0.0 in /Users/miftakhurrokhmat/environment/bda36/lib/python3.6/site-packages (from google-auth<2.0dev,>=1.11.0->google-cloud-storage->smart-open>=1.8.1->gensim) (4.0.0)\n",
      "Requirement already satisfied, skipping upgrade: rsa<4.1,>=3.1.4 in /Users/miftakhurrokhmat/environment/bda36/lib/python3.6/site-packages (from google-auth<2.0dev,>=1.11.0->google-cloud-storage->smart-open>=1.8.1->gensim) (4.0)\n",
      "Requirement already satisfied, skipping upgrade: setuptools>=40.3.0 in /Users/miftakhurrokhmat/environment/bda36/lib/python3.6/site-packages (from google-auth<2.0dev,>=1.11.0->google-cloud-storage->smart-open>=1.8.1->gensim) (42.0.2)\n",
      "Requirement already satisfied, skipping upgrade: pyasn1-modules>=0.2.1 in /Users/miftakhurrokhmat/environment/bda36/lib/python3.6/site-packages (from google-auth<2.0dev,>=1.11.0->google-cloud-storage->smart-open>=1.8.1->gensim) (0.2.8)\n",
      "Requirement already satisfied, skipping upgrade: google-api-core<2.0.0dev,>=1.16.0 in /Users/miftakhurrokhmat/environment/bda36/lib/python3.6/site-packages (from google-cloud-core<2.0dev,>=1.2.0->google-cloud-storage->smart-open>=1.8.1->gensim) (1.16.0)\n",
      "Requirement already satisfied, skipping upgrade: python-dateutil<3.0.0,>=2.1 in /Users/miftakhurrokhmat/environment/bda36/lib/python3.6/site-packages (from botocore<1.16.0,>=1.15.30->boto3->smart-open>=1.8.1->gensim) (2.8.1)\n",
      "Requirement already satisfied, skipping upgrade: docutils<0.16,>=0.10 in /Users/miftakhurrokhmat/environment/bda36/lib/python3.6/site-packages (from botocore<1.16.0,>=1.15.30->boto3->smart-open>=1.8.1->gensim) (0.15.2)\n",
      "Requirement already satisfied, skipping upgrade: pyasn1>=0.1.3 in /Users/miftakhurrokhmat/environment/bda36/lib/python3.6/site-packages (from rsa<4.1,>=3.1.4->google-auth<2.0dev,>=1.11.0->google-cloud-storage->smart-open>=1.8.1->gensim) (0.4.8)\n",
      "Requirement already satisfied, skipping upgrade: pytz in /Users/miftakhurrokhmat/environment/bda36/lib/python3.6/site-packages (from google-api-core<2.0.0dev,>=1.16.0->google-cloud-core<2.0dev,>=1.2.0->google-cloud-storage->smart-open>=1.8.1->gensim) (2019.3)\n",
      "Requirement already satisfied, skipping upgrade: googleapis-common-protos<2.0dev,>=1.6.0 in /Users/miftakhurrokhmat/environment/bda36/lib/python3.6/site-packages (from google-api-core<2.0.0dev,>=1.16.0->google-cloud-core<2.0dev,>=1.2.0->google-cloud-storage->smart-open>=1.8.1->gensim) (1.51.0)\n",
      "Requirement already satisfied, skipping upgrade: protobuf>=3.4.0 in /Users/miftakhurrokhmat/environment/bda36/lib/python3.6/site-packages (from google-api-core<2.0.0dev,>=1.16.0->google-cloud-core<2.0dev,>=1.2.0->google-cloud-storage->smart-open>=1.8.1->gensim) (3.11.3)\n",
      "Note: you may need to restart the kernel to use updated packages.\n"
     ]
    }
   ],
   "source": [
    "# 3.1) Install Gensim Library\n",
    "\n",
    "pip install --upgrade gensim"
   ]
  },
  {
   "cell_type": "code",
   "execution_count": 3,
   "metadata": {},
   "outputs": [],
   "source": [
    "# 3.2) Using Gensim\n",
    "\n",
    "import gensim"
   ]
  },
  {
   "cell_type": "code",
   "execution_count": 8,
   "metadata": {},
   "outputs": [
    {
     "name": "stdout",
     "output_type": "stream",
     "text": [
      "Word2Vec(vocab=14, size=100, alpha=0.025)\n",
      "['this', 'is', 'the', 'first', 'sentence', 'for', 'word2vec', 'second', 'yet', 'another', 'one', 'more', 'and', 'final']\n",
      "[-1.5074663e-03  1.5710915e-03 -4.7753085e-03  1.2539988e-03\n",
      " -4.6985452e-03 -2.0157127e-04  2.9927765e-03  1.4024421e-03\n",
      " -2.4152827e-03  7.4170751e-04  2.3394790e-03 -1.6462512e-03\n",
      "  4.3918172e-04 -1.9914163e-03 -8.4434847e-05 -1.8329816e-03\n",
      " -1.9897630e-03 -3.1101017e-03 -4.8618023e-03 -1.9439257e-03\n",
      "  4.3953964e-03  2.8794294e-03  3.5227893e-03 -1.6079856e-03\n",
      "  3.2285252e-03  3.1639896e-03  4.1300501e-03  2.0988130e-03\n",
      "  4.6174577e-03  3.0381961e-03 -4.9867099e-03 -2.2652736e-03\n",
      "  1.1979082e-03  4.1748807e-03 -9.4195775e-04  2.8158927e-03\n",
      "  2.9872346e-03 -3.6755507e-03 -2.8548532e-03  1.7664986e-04\n",
      " -1.6314012e-03 -2.0712533e-03  3.2734259e-03  4.1700588e-03\n",
      " -3.9813914e-03 -3.8395487e-03 -8.6592138e-04  1.3465085e-03\n",
      " -4.7491936e-04  3.9769588e-03 -2.2472769e-03 -8.1587740e-04\n",
      " -4.8336849e-04  2.0366095e-03 -2.6246975e-03  4.6618022e-03\n",
      "  4.1763266e-03  2.7934189e-03 -7.0062006e-04  3.8149811e-03\n",
      "  1.8235116e-03 -1.6421551e-03  1.8856584e-03 -1.4039084e-03\n",
      "  5.6528824e-04 -6.1064091e-04  3.1984033e-04  1.3871390e-03\n",
      " -4.6419422e-03 -3.6191470e-03  4.6214310e-04 -7.0706650e-04\n",
      "  3.7648219e-03 -1.3054401e-03 -2.0950690e-03 -3.7874025e-03\n",
      " -2.7133387e-03 -4.9012080e-03 -6.7312439e-04  2.4655822e-03\n",
      "  2.4062716e-03  1.2924979e-03 -4.0438883e-03 -3.5909885e-03\n",
      "  2.2825883e-03  3.4329433e-03 -1.3541229e-03 -4.4687469e-03\n",
      "  1.8116281e-03 -8.5804355e-04 -1.8109726e-04  4.9696830e-03\n",
      "  3.1003726e-03 -3.9288206e-03 -1.5852132e-04 -4.7075737e-04\n",
      "  4.2271237e-03 -3.8520806e-03  3.2693811e-03 -1.8559279e-03]\n",
      "Word2Vec(vocab=14, size=100, alpha=0.025)\n"
     ]
    },
    {
     "name": "stderr",
     "output_type": "stream",
     "text": [
      "/Users/miftakhurrokhmat/environment/bda36/lib/python3.6/site-packages/ipykernel_launcher.py:17: DeprecationWarning: Call to deprecated `__getitem__` (Method will be removed in 4.0.0, use self.wv.__getitem__() instead).\n"
     ]
    }
   ],
   "source": [
    "# 3.3) Develop Gensim Word2Vec Embedding\n",
    "\n",
    "from gensim.models import Word2Vec\n",
    "# define training data\n",
    "sentences = [['this', 'is', 'the', 'first', 'sentence', 'for', 'word2vec'],\n",
    "             ['this', 'is', 'the', 'second', 'sentence'],\n",
    "             ['yet', 'another', 'sentence'],\n",
    "             ['one', 'more', 'sentence'],\n",
    "             ['and', 'the', 'final', 'sentence']]\n",
    "# train model\n",
    "model = Word2Vec(sentences, min_count=1)\n",
    "# summarize the loaded model\n",
    "print(model)\n",
    "# summarize vocabulary\n",
    "words = list(model.wv.vocab)\n",
    "print(words)\n",
    "# access vector for one word\n",
    "print(model['sentence'])\n",
    "# save model\n",
    "model.save('model.bin')\n",
    "# load model\n",
    "new_model = Word2Vec.load('model.bin')\n",
    "print(new_model)"
   ]
  },
  {
   "cell_type": "code",
   "execution_count": 11,
   "metadata": {},
   "outputs": [
    {
     "name": "stdout",
     "output_type": "stream",
     "text": [
      "1 Word2Vec(vocab=14, size=100, alpha=0.025)\n",
      "2 [[ 4.3439730e-03 -4.8534800e-03  7.4365555e-04 ...  2.6955206e-03\n",
      "   1.2568987e-03  3.6395546e-03]\n",
      " [-3.2971632e-03 -4.0503703e-03 -1.0425374e-03 ... -3.3003907e-03\n",
      "  -3.8762791e-03  4.8681293e-03]\n",
      " [-3.7229776e-03  2.2011215e-03 -2.7857570e-03 ...  2.0172482e-03\n",
      "  -4.7876540e-04  1.3937983e-03]\n",
      " ...\n",
      " [ 1.6954446e-03 -1.0907206e-04  9.8109238e-05 ...  7.5369765e-04\n",
      "  -1.1803623e-03  5.3365022e-04]\n",
      " [-2.8991902e-03 -4.5015584e-03  2.5296791e-03 ... -2.8427751e-03\n",
      "   4.1627232e-03 -4.9022213e-03]\n",
      " [-4.3433961e-03  1.4462968e-03  4.1592386e-04 ... -2.4478952e-03\n",
      "   3.2922900e-03  3.9113848e-03]]\n",
      "3 PCA(copy=True, iterated_power='auto', n_components=2, random_state=None,\n",
      "    svd_solver='auto', tol=0.0, whiten=False)\n",
      "4 [[-0.00112496  0.00857693]\n",
      " [-0.00154048 -0.00253115]\n",
      " [-0.00124574 -0.00957461]\n",
      " [-0.01176896 -0.0029137 ]\n",
      " [ 0.00913923 -0.00917848]\n",
      " [-0.00278603 -0.01138903]\n",
      " [-0.00522881 -0.00994528]\n",
      " [ 0.00448706  0.00474022]\n",
      " [-0.00108419  0.00973138]\n",
      " [-0.00753894 -0.01066078]\n",
      " [-0.01587407  0.01760689]\n",
      " [ 0.00548453  0.00106241]\n",
      " [ 0.02303104  0.00322009]\n",
      " [ 0.0060503   0.01125509]]\n",
      "5 ['this', 'is', 'the', 'first', 'sentence', 'for', 'word2vec', 'second', 'yet', 'another', 'one', 'more', 'and', 'final']\n"
     ]
    },
    {
     "name": "stderr",
     "output_type": "stream",
     "text": [
      "/Users/miftakhurrokhmat/environment/bda36/lib/python3.6/site-packages/ipykernel_launcher.py:16: DeprecationWarning: Call to deprecated `__getitem__` (Method will be removed in 4.0.0, use self.wv.__getitem__() instead).\n",
      "  app.launch_new_instance()\n"
     ]
    },
    {
     "data": {
      "image/png": "[encoded data removed]",
      "text/plain": [
       "<Figure size 432x288 with 1 Axes>"
      ]
     },
     "metadata": {
      "needs_background": "light"
     },
     "output_type": "display_data"
    }
   ],
   "source": [
    "# 3.4) Visualize Word Embedding\n",
    "\n",
    "from gensim.models import Word2Vec\n",
    "from sklearn.decomposition import PCA\n",
    "from matplotlib import pyplot\n",
    "# define training data\n",
    "sentences = [['this', 'is', 'the', 'first', 'sentence', 'for', 'word2vec'],\n",
    "             ['this', 'is', 'the', 'second', 'sentence'],\n",
    "             ['yet', 'another', 'sentence'],\n",
    "             ['one', 'more', 'sentence'],\n",
    "             ['and', 'the', 'final', 'sentence']]\n",
    "# train model\n",
    "model = Word2Vec(sentences, min_count=1)\n",
    "print(\"1\",model)\n",
    "# fit a 2d PCA model to the vectors\n",
    "X = model[model.wv.vocab]\n",
    "print(\"2\",X)\n",
    "pca = PCA(n_components=2)\n",
    "print(\"3\", pca)\n",
    "result = pca.fit_transform(X)\n",
    "print(\"4\", result)\n",
    "# create a scatter plot of the projection\n",
    "pyplot.scatter(result[:, 0], result[:, 1])\n",
    "words = list(model.wv.vocab)\n",
    "print(\"5\",words)\n",
    "for i, word in enumerate(words):\n",
    "    pyplot.annotate(word, xy=(result[i, 0], result[i, 1]))\n",
    "pyplot.show()"
   ]
  },
  {
   "cell_type": "code",
   "execution_count": 34,
   "metadata": {},
   "outputs": [
    {
     "name": "stdout",
     "output_type": "stream",
     "text": [
      "[('second', 0.050528548657894135), ('one', 0.0291157066822052), ('this', 0.016182199120521545), ('final', 0.01617901772260666), ('more', -0.028092965483665466), ('word2vec', -0.08155510574579239), ('and', -0.08181768655776978), ('yet', -0.09573682397603989), ('another', -0.20277807116508484)]\n"
     ]
    },
    {
     "name": "stderr",
     "output_type": "stream",
     "text": [
      "/Users/miftakhurrokhmat/environment/bda36/lib/python3.6/site-packages/ipykernel_launcher.py:7: DeprecationWarning: Call to deprecated `most_similar` (Method will be removed in 4.0.0, use self.wv.most_similar() instead).\n",
      "  import sys\n"
     ]
    }
   ],
   "source": [
    "# 3.5) Load Word2Vec Embedding\n",
    "\n",
    "# load the word2vec model\n",
    "filename = 'model.bin'\n",
    "model = Word2Vec.load(filename)\n",
    "# calculate: (king - man) + woman = ?\n",
    "result = model.most_similar(positive=['sentence','first'],negative=['is','the','for'], topn=14)\n",
    "\n",
    "#sentences = [['this', 'is', 'the', 'first', 'sentence', 'for', 'word2vec'],\n",
    "#             ['this', 'is', 'the', 'second', 'sentence'],\n",
    "#             ['yet', 'another', 'sentence'],\n",
    "#             ['one', 'more', 'sentence'],\n",
    "#             ['and', 'the', 'final', 'sentence']]\n",
    "\n",
    "print(result)"
   ]
  },
  {
   "cell_type": "code",
   "execution_count": null,
   "metadata": {},
   "outputs": [],
   "source": []
  },
  {
   "cell_type": "code",
   "execution_count": null,
   "metadata": {},
   "outputs": [],
   "source": []
  }
 ],
 "metadata": {
  "kernelspec": {
   "display_name": "Python 3",
   "language": "python",
   "name": "python3"
  },
  "language_info": {
   "codemirror_mode": {
    "name": "ipython",
    "version": 3
   },
   "file_extension": ".py",
   "mimetype": "text/x-python",
   "name": "python",
   "nbconvert_exporter": "python",
   "pygments_lexer": "ipython3",
   "version": "3.6.5"
  }
 },
 "nbformat": 4,
 "nbformat_minor": 4
}
